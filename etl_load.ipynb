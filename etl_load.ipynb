{
 "cells": [
  {
   "cell_type": "code",
   "execution_count": 1,
   "id": "c1914c3c",
   "metadata": {},
   "outputs": [
    {
     "name": "stdout",
     "output_type": "stream",
     "text": [
      "Current working directory: c:\\Users\\Admin\\Desktop\\ETL_Midterm_Queen_897\n",
      "Full Data - First 5 Rows:\n",
      "   order_id customer_name product  quantity  unit_price  order_date   region  \\\n",
      "0         1         Diana  Tablet       2.0  500.000000  2024-01-20    South   \n",
      "1         2           Eve  Laptop       2.0  607.142857  2024-04-29    North   \n",
      "2         3       Charlie  Laptop       2.0  250.000000  2024-01-08  Unknown   \n",
      "3         4           Eve  Laptop       2.0  750.000000  2024-01-07     West   \n",
      "4         5           Eve  Tablet       3.0  607.142857  2024-03-07    South   \n",
      "\n",
      "   total_price  \n",
      "0  1000.000000  \n",
      "1  1214.285714  \n",
      "2   500.000000  \n",
      "3  1500.000000  \n",
      "4  1821.428571  \n",
      "\n",
      "Incremental Data - First 5 Rows:\n",
      "   order_id customer_name product  quantity  unit_price  order_date   region  \\\n",
      "0       101         Alice  Laptop       1.5       900.0  2024-05-09  Central   \n",
      "1       102       Unknown  Laptop       1.0       300.0  2024-05-07  Central   \n",
      "2       103       Unknown  Laptop       1.0       600.0  2024-05-04  Central   \n",
      "3       104       Unknown  Tablet       1.5       300.0  2024-05-26  Central   \n",
      "4       105         Heidi  Tablet       2.0       600.0  2024-05-21    North   \n",
      "\n",
      "   total_price  \n",
      "0       1350.0  \n",
      "1        300.0  \n",
      "2        600.0  \n",
      "3        450.0  \n",
      "4       1200.0  \n",
      "\n",
      "Data loaded into SQLite databases in loaded/ folder.\n"
     ]
    }
   ],
   "source": [
    "# etl_load.ipynb\n",
    "import pandas as pd\n",
    "import sqlite3\n",
    "import os\n",
    "\n",
    "# Set correct working directory\n",
    "project_folder = r'c:\\Users\\Admin\\Desktop\\ETL_Midterm_Queen_897'\n",
    "os.chdir(project_folder)\n",
    "print(\"Current working directory:\", os.getcwd())\n",
    "\n",
    "# Verify input files\n",
    "if not os.path.exists('data/transformed/transformed_full.csv') or not os.path.exists('data/transformed/transformed_incremental.csv'):\n",
    "    raise FileNotFoundError(\"Ensure transformed_full.csv and transformed_incremental.csv are in the data/transformed/ folder\")\n",
    "\n",
    "# Load transformed data\n",
    "full_df = pd.read_csv('data/transformed/transformed_full.csv')\n",
    "incremental_df = pd.read_csv('data/transformed/transformed_incremental.csv')\n",
    "\n",
    "# Create loaded directory\n",
    "os.makedirs('loaded', exist_ok=True)\n",
    "\n",
    "# Connect to SQLite databases\n",
    "full_conn = sqlite3.connect('loaded/full_data.db')\n",
    "incremental_conn = sqlite3.connect('loaded/incremental_data.db')\n",
    "\n",
    "# Load data into SQLite\n",
    "full_df.to_sql('full_data', full_conn, if_exists='replace', index=False)\n",
    "incremental_df.to_sql('incremental_data', incremental_conn, if_exists='replace', index=False)\n",
    "\n",
    "# Verify data with SQL query\n",
    "print(\"Full Data - First 5 Rows:\")\n",
    "full_query = pd.read_sql_query(\"SELECT * FROM full_data LIMIT 5\", full_conn)\n",
    "print(full_query)\n",
    "\n",
    "print(\"\\nIncremental Data - First 5 Rows:\")\n",
    "incremental_query = pd.read_sql_query(\"SELECT * FROM incremental_data LIMIT 5\", incremental_conn)\n",
    "print(incremental_query)\n",
    "\n",
    "# Close connections\n",
    "full_conn.close()\n",
    "incremental_conn.close()\n",
    "print(\"\\nData loaded into SQLite databases in loaded/ folder.\")"
   ]
  }
 ],
 "metadata": {
  "kernelspec": {
   "display_name": "Python 3",
   "language": "python",
   "name": "python3"
  },
  "language_info": {
   "codemirror_mode": {
    "name": "ipython",
    "version": 3
   },
   "file_extension": ".py",
   "mimetype": "text/x-python",
   "name": "python",
   "nbconvert_exporter": "python",
   "pygments_lexer": "ipython3",
   "version": "3.11.9"
  }
 },
 "nbformat": 4,
 "nbformat_minor": 5
}
